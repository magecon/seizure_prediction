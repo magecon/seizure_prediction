{
 "cells": [
  {
   "cell_type": "code",
   "execution_count": 87,
   "metadata": {
    "collapsed": true
   },
   "outputs": [],
   "source": [
    "import glob\n",
    "import os\n",
    "import numpy as np\n",
    "import pandas as pd\n",
    "from scipy.io import loadmat\n",
    "from scipy.fftpack import fft\n",
    "from sklearn.decomposition import PCA\n",
    "import matplotlib.pyplot as plt\n",
    "%matplotlib inline"
   ]
  },
  {
   "cell_type": "code",
   "execution_count": 2,
   "metadata": {
    "collapsed": false
   },
   "outputs": [],
   "source": [
    "files = sorted(glob.glob(\"./train_1/*.mat\"))"
   ]
  },
  {
   "cell_type": "code",
   "execution_count": 62,
   "metadata": {
    "collapsed": true
   },
   "outputs": [],
   "source": [
    "def mat_to_pd(path):\n",
    "    mat = loadmat(path)\n",
    "    names = mat['dataStruct'].dtype.names\n",
    "    ndata = {n: mat['dataStruct'][n][0, 0] for n in names}\n",
    "    return pd.DataFrame(ndata['data'], columns=ndata['channelIndices'][0])\n",
    "\n",
    "def get_fft_bins_edges(pd):\n",
    "    bins  = []\n",
    "    edges = []\n",
    "    for i in range(1, 17):\n",
    "        freq = np.abs(np.fft.fft(pd[float(str(i) + \".0\")]))\n",
    "        h = np.histogram(np.log(freq).ravel(), bins=100)\n",
    "        bins.append(h[0])\n",
    "        edges.append(h[1])\n",
    "    return np.array(bins), np.array(edges)\n",
    "\n",
    "def get_fft_bins(pd):\n",
    "    return get_fft_bins_edges(pd)[0]\n",
    "    \n",
    "def get_fft_edges(pd):\n",
    "    return get_fft_bins_edges(pd)[1]"
   ]
  },
  {
   "cell_type": "code",
   "execution_count": 73,
   "metadata": {
    "collapsed": false
   },
   "outputs": [
    {
     "name": "stdout",
     "output_type": "stream",
     "text": [
      "['uuu', 'fff']\n"
     ]
    }
   ],
   "source": [
    "z = np.zeros((10, 10))\n",
    "x = np.ones((10, 10))\n",
    "np.savez_compressed(file=\"./fuck\", fff=z, uuu=x)\n",
    "d = np.load(\"./fuck.npz\")\n",
    "print(d.keys())"
   ]
  },
  {
   "cell_type": "code",
   "execution_count": 76,
   "metadata": {
    "collapsed": true
   },
   "outputs": [],
   "source": [
    "def save_npz(column_number, transform_method=lambda x: x):\n",
    "    file_list = sorted(glob.glob(\"./train_*/*.mat\"))\n",
    "    X, y = [], []\n",
    "    for file in file_list:\n",
    "        filename = os.path.basename(file)[:-4].split(\"_\")\n",
    "        try:    \n",
    "            data = mat_to_pd(file)\n",
    "            X.append(transform_method(data))\n",
    "            y.append(filename[2])\n",
    "        except Exception as e:\n",
    "            print(\"error \" + str(e))\n",
    "            continue\n",
    "            \n",
    "    np.savez_compressed(file=\"./train.npz\", X=np.array(X), y=np.array(y))"
   ]
  },
  {
   "cell_type": "code",
   "execution_count": 84,
   "metadata": {
    "collapsed": true
   },
   "outputs": [],
   "source": [
    "np.savez_compressed(file=\"./train.npz\", X=np.array(X), y=np.array(y))"
   ]
  },
  {
   "cell_type": "code",
   "execution_count": 86,
   "metadata": {
    "collapsed": false
   },
   "outputs": [
    {
     "name": "stdout",
     "output_type": "stream",
     "text": [
      "-rw-r--r--     1 lemhell  staff   3,3M  9 сен 22:36 train.npz\r\n"
     ]
    }
   ],
   "source": [
    "!ls -lh | grep train.npz "
   ]
  },
  {
   "cell_type": "code",
   "execution_count": 88,
   "metadata": {
    "collapsed": false
   },
   "outputs": [
    {
     "data": {
      "text/plain": [
       "PCA(copy=True, n_components=None, whiten=False)"
      ]
     },
     "execution_count": 88,
     "metadata": {},
     "output_type": "execute_result"
    }
   ],
   "source": [
    "pca = PCA()\n",
    "pca.fit(X)"
   ]
  },
  {
   "cell_type": "code",
   "execution_count": 102,
   "metadata": {
    "collapsed": false
   },
   "outputs": [
    {
     "data": {
      "text/plain": [
       "array([[ -1.30708290e+04,  -1.54267114e+04,   1.13589474e+04, ...,\n",
       "         -2.63015904e-01,  -7.65135868e-02,   1.99662509e-12],\n",
       "       [ -1.12875820e+04,  -1.36667440e+04,   7.52046394e+03, ...,\n",
       "         -4.28761389e-04,   1.55556006e+00,   5.09601250e-11],\n",
       "       [ -3.94061677e+03,  -9.69654484e+03,  -3.38517428e+04, ...,\n",
       "          2.86872454e-01,   3.11992675e-01,  -5.83284532e-11],\n",
       "       ..., \n",
       "       [  9.34888357e+03,  -2.80634630e+04,  -6.72121269e+03, ...,\n",
       "         -8.81180062e-01,  -2.13781711e-01,  -1.18678400e-11],\n",
       "       [ -7.38621272e+03,  -5.98117330e+03,   1.92282221e+04, ...,\n",
       "         -5.28199220e-01,  -7.01961798e-01,  -6.63646915e-12],\n",
       "       [  1.74160217e+04,  -2.53564647e+04,   3.60807261e+03, ...,\n",
       "          1.63483887e-02,   1.04507820e+00,   1.24344979e-11]])"
      ]
     },
     "execution_count": 102,
     "metadata": {},
     "output_type": "execute_result"
    }
   ],
   "source": [
    "X_transformed[np.where(y == 0)[0]]"
   ]
  },
  {
   "cell_type": "code",
   "execution_count": 108,
   "metadata": {
    "collapsed": false
   },
   "outputs": [
    {
     "data": {
      "text/plain": [
       "[<matplotlib.lines.Line2D at 0x1290c39b0>]"
      ]
     },
     "execution_count": 108,
     "metadata": {},
     "output_type": "execute_result"
    },
    {
     "data": {
      "image/png": "[encoded data removed]",
      "text/plain": [
       "<matplotlib.figure.Figure at 0x1290c39e8>"
      ]
     },
     "metadata": {},
     "output_type": "display_data"
    }
   ],
   "source": [
    "X_transformed = pca.transform(X)\n",
    "\n",
    "plt.plot(X_transformed[np.where(y == 0)[0], 4], X_transformed[np.where(y == 0)[0], 5], 'ro')\n",
    "plt.plot(X_transformed[np.where(y == 1)[0], 4], X_transformed[np.where(y == 1)[0], 5], 'bo')"
   ]
  },
  {
   "cell_type": "code",
   "execution_count": 77,
   "metadata": {
    "collapsed": false
   },
   "outputs": [
    {
     "name": "stdout",
     "output_type": "stream",
     "text": [
      "error range parameter must be finite.\n",
      "error range parameter must be finite.\n",
      "error range parameter must be finite.\n",
      "error range parameter must be finite.\n",
      "error range parameter must be finite.\n",
      "error range parameter must be finite.\n",
      "error range parameter must be finite.\n",
      "error range parameter must be finite.\n",
      "error range parameter must be finite.\n",
      "error range parameter must be finite.\n",
      "error range parameter must be finite.\n",
      "error range parameter must be finite.\n",
      "error range parameter must be finite.\n",
      "error range parameter must be finite.\n",
      "error Did not fully consume compressed contents of an miCOMPRESSED element. This can indicate that the .mat file is corrupted.\n",
      "error range parameter must be finite.\n",
      "error range parameter must be finite.\n",
      "error range parameter must be finite.\n",
      "error range parameter must be finite.\n",
      "error range parameter must be finite.\n",
      "error range parameter must be finite.\n",
      "error range parameter must be finite.\n",
      "error range parameter must be finite.\n",
      "error range parameter must be finite.\n",
      "error range parameter must be finite.\n",
      "error range parameter must be finite.\n",
      "error range parameter must be finite.\n",
      "error range parameter must be finite.\n",
      "error range parameter must be finite.\n",
      "error range parameter must be finite.\n",
      "error range parameter must be finite.\n",
      "error range parameter must be finite.\n",
      "error range parameter must be finite.\n",
      "error range parameter must be finite.\n",
      "error range parameter must be finite.\n",
      "error range parameter must be finite.\n",
      "error range parameter must be finite.\n"
     ]
    },
    {
     "ename": "TypeError",
     "evalue": "savez_compressed() missing 1 required positional argument: 'file'",
     "output_type": "error",
     "traceback": [
      "\u001b[0;31m---------------------------------------------------------------------------\u001b[0m",
      "\u001b[0;31mTypeError\u001b[0m                                 Traceback (most recent call last)",
      "\u001b[0;32m<ipython-input-77-921b7340f6e4>\u001b[0m in \u001b[0;36m<module>\u001b[0;34m()\u001b[0m\n\u001b[0;32m----> 1\u001b[0;31m \u001b[0msave_npz\u001b[0m\u001b[0;34m(\u001b[0m\u001b[0;36m100\u001b[0m\u001b[0;34m,\u001b[0m \u001b[0mget_fft_bins\u001b[0m\u001b[0;34m)\u001b[0m\u001b[0;34m\u001b[0m\u001b[0m\n\u001b[0m",
      "\u001b[0;32m<ipython-input-76-b524bbfe20b3>\u001b[0m in \u001b[0;36msave_npz\u001b[0;34m(column_number, transform_method)\u001b[0m\n\u001b[1;32m     12\u001b[0m             \u001b[0;32mcontinue\u001b[0m\u001b[0;34m\u001b[0m\u001b[0m\n\u001b[1;32m     13\u001b[0m \u001b[0;34m\u001b[0m\u001b[0m\n\u001b[0;32m---> 14\u001b[0;31m     \u001b[0mnp\u001b[0m\u001b[0;34m.\u001b[0m\u001b[0msavez_compressed\u001b[0m\u001b[0;34m(\u001b[0m\u001b[0mfname\u001b[0m\u001b[0;34m=\u001b[0m\u001b[0;34m\"./train.npz\"\u001b[0m\u001b[0;34m,\u001b[0m \u001b[0mX\u001b[0m\u001b[0;34m=\u001b[0m\u001b[0mnp\u001b[0m\u001b[0;34m.\u001b[0m\u001b[0marray\u001b[0m\u001b[0;34m(\u001b[0m\u001b[0mx\u001b[0m\u001b[0;34m)\u001b[0m\u001b[0;34m,\u001b[0m \u001b[0my\u001b[0m\u001b[0;34m=\u001b[0m\u001b[0mnp\u001b[0m\u001b[0;34m.\u001b[0m\u001b[0marray\u001b[0m\u001b[0;34m(\u001b[0m\u001b[0my\u001b[0m\u001b[0;34m)\u001b[0m\u001b[0;34m)\u001b[0m\u001b[0;34m\u001b[0m\u001b[0m\n\u001b[0m",
      "\u001b[0;31mTypeError\u001b[0m: savez_compressed() missing 1 required positional argument: 'file'"
     ]
    }
   ],
   "source": [
    "save_npz(100, get_fft_bins)"
   ]
  },
  {
   "cell_type": "code",
   "execution_count": 4,
   "metadata": {
    "collapsed": true
   },
   "outputs": [],
   "source": [
    "# transform_method is applied to data from .mat\n",
    "# elem - element from tuple, returned after transform_method\n",
    "def create_csv(data, transform_method=None, elem=None, elem_length=None):\n",
    "    file_list = sorted(glob.glob(\"./train_*/*.mat\"))\n",
    "    out = open(\"./train.csv\", \"w\")\n",
    "    out.write(\"id,pid\")\n",
    "    if data is not None:\n",
    "        data_range = len(data)\n",
    "    if elem is not None:\n",
    "        data_range = elem_length*16\n",
    "    for i in range(data_range):\n",
    "        out.write(\",d\" + str(i))\n",
    "    out.write(\",result\\n\")\n",
    "    for file in file_list:\n",
    "        filename = os.path.basename(file)[:-4].split(\"_\")\n",
    "        patient_id = filename[0]\n",
    "        id = 100000*patient_id + filename[1]\n",
    "        result = filename[2]\n",
    "        try:\n",
    "        \n",
    "            data = mat_to_pd(file)\n",
    "            if transform_method is not None:\n",
    "                data = transform_method(data)[elem]\n",
    "        except Exception as e:\n",
    "            print(\"error \" + str(e))\n",
    "            continue\n",
    "        out.write(str(id))\n",
    "        out.write(\",\" + str(patient_id))\n",
    "        for datum in data:\n",
    "            for element in datum:\n",
    "                out.write(\",\" + str(element))\n",
    "        out.write(\",\" + str(result))\n",
    "        out.write(\"\\n\")\n",
    "    out.close\n",
    "        "
   ]
  },
  {
   "cell_type": "code",
   "execution_count": 34,
   "metadata": {
    "collapsed": false
   },
   "outputs": [],
   "source": [
    "def test_peaks_ttest():\n",
    "    from scipy.stats import ttest_ind\n",
    "    seiz_peaks_length = []\n",
    "    no_seiz_peaks_length = []\n",
    "    for file in files:\n",
    "        try:\n",
    "            ser = pd.Series(mat_to_pd(file).as_matrix().ravel())\n",
    "        except:\n",
    "            continue\n",
    "        if int(os.path.basename(file)[:-4].split(\"_\")[2]) == 1:\n",
    "            seiz_peaks_length.append(len(ser[np.abs(ser) > 1000]))\n",
    "        else:\n",
    "            no_seiz_peaks_length.append(len(ser[np.abs(ser) > 1000]))\n",
    "    print(ttest_ind(seiz_peaks_length, no_seiz_peaks_length, equal_var=False))\n",
    "    print(np.std(seiz_peaks_length), np.std(no_seiz_peaks_length), np.mean(seiz_peaks_length), np.mean(no_seiz_peaks_length))"
   ]
  },
  {
   "cell_type": "code",
   "execution_count": 65,
   "metadata": {
    "collapsed": false
   },
   "outputs": [
    {
     "data": {
      "text/plain": [
       "[<matplotlib.lines.Line2D at 0x1397a1be0>]"
      ]
     },
     "execution_count": 65,
     "metadata": {},
     "output_type": "execute_result"
    },
    {
     "data": {
      "image/png": "[encoded data removed]",
      "text/plain": [
       "<matplotlib.figure.Figure at 0x14046b978>"
      ]
     },
     "metadata": {},
     "output_type": "display_data"
    }
   ],
   "source": [
    "test = mat_to_pd(\"./train_1/1_1_1.mat\")\n",
    "\n",
    "# pd.Series(fft(test[1.0]))[:100].plot()\n",
    "freq = np.abs(np.fft.fft(test[1.0]))\n",
    "\n",
    "fig, ax = plt.subplots(nrows=1, ncols=1, figsize=(14, 6))\n",
    "h = np.histogram(np.log(freq).ravel(), bins=100)\n",
    "plt.plot(h[1][1:], h[0])"
   ]
  },
  {
   "cell_type": "code",
   "execution_count": 72,
   "metadata": {
    "collapsed": false
   },
   "outputs": [
    {
     "data": {
      "text/plain": [
       "100"
      ]
     },
     "execution_count": 72,
     "metadata": {},
     "output_type": "execute_result"
    }
   ],
   "source": [
    "len(get_fft_bins_edges(test)[0][1])"
   ]
  },
  {
   "cell_type": "code",
   "execution_count": 5,
   "metadata": {
    "collapsed": false
   },
   "outputs": [
    {
     "name": "stdout",
     "output_type": "stream",
     "text": [
      "error range parameter must be finite.\n",
      "error range parameter must be finite.\n",
      "error range parameter must be finite.\n",
      "error range parameter must be finite.\n",
      "error range parameter must be finite.\n",
      "error range parameter must be finite.\n",
      "error range parameter must be finite.\n",
      "error range parameter must be finite.\n",
      "error range parameter must be finite.\n",
      "error range parameter must be finite.\n",
      "error range parameter must be finite.\n",
      "error range parameter must be finite.\n",
      "error range parameter must be finite.\n",
      "error range parameter must be finite.\n",
      "error Did not fully consume compressed contents of an miCOMPRESSED element. This can indicate that the .mat file is corrupted.\n",
      "error range parameter must be finite.\n",
      "error range parameter must be finite.\n",
      "error range parameter must be finite.\n",
      "error range parameter must be finite.\n",
      "error range parameter must be finite.\n",
      "error range parameter must be finite.\n",
      "error range parameter must be finite.\n",
      "error range parameter must be finite.\n",
      "error range parameter must be finite.\n",
      "error range parameter must be finite.\n",
      "error range parameter must be finite.\n",
      "error range parameter must be finite.\n",
      "error range parameter must be finite.\n",
      "error range parameter must be finite.\n",
      "error range parameter must be finite.\n",
      "error range parameter must be finite.\n",
      "error range parameter must be finite.\n",
      "error range parameter must be finite.\n",
      "error range parameter must be finite.\n",
      "error range parameter must be finite.\n",
      "error range parameter must be finite.\n",
      "error range parameter must be finite.\n"
     ]
    }
   ],
   "source": [
    "create_csv(None, get_fft_bins_edges, 0, 100)"
   ]
  },
  {
   "cell_type": "code",
   "execution_count": 6,
   "metadata": {
    "collapsed": false
   },
   "outputs": [
    {
     "name": "stdout",
     "output_type": "stream",
     "text": [
      "1\n"
     ]
    }
   ],
   "source": [
    "print(1)"
   ]
  },
  {
   "cell_type": "code",
   "execution_count": 9,
   "metadata": {
    "collapsed": false
   },
   "outputs": [
    {
     "data": {
      "text/html": [
       "<div>\n",
       "<table border=\"1\" class=\"dataframe\">\n",
       "  <thead>\n",
       "    <tr style=\"text-align: right;\">\n",
       "      <th></th>\n",
       "      <th>pid</th>\n",
       "      <th>d0</th>\n",
       "      <th>d1</th>\n",
       "      <th>d2</th>\n",
       "      <th>d3</th>\n",
       "      <th>d4</th>\n",
       "      <th>d5</th>\n",
       "      <th>d6</th>\n",
       "      <th>d7</th>\n",
       "      <th>d8</th>\n",
       "      <th>...</th>\n",
       "      <th>d1591</th>\n",
       "      <th>d1592</th>\n",
       "      <th>d1593</th>\n",
       "      <th>d1594</th>\n",
       "      <th>d1595</th>\n",
       "      <th>d1596</th>\n",
       "      <th>d1597</th>\n",
       "      <th>d1598</th>\n",
       "      <th>d1599</th>\n",
       "      <th>result</th>\n",
       "    </tr>\n",
       "  </thead>\n",
       "  <tbody>\n",
       "    <tr>\n",
       "      <th>0</th>\n",
       "      <td>1</td>\n",
       "      <td>1</td>\n",
       "      <td>0</td>\n",
       "      <td>0</td>\n",
       "      <td>0</td>\n",
       "      <td>0</td>\n",
       "      <td>0</td>\n",
       "      <td>0</td>\n",
       "      <td>0</td>\n",
       "      <td>0</td>\n",
       "      <td>...</td>\n",
       "      <td>466</td>\n",
       "      <td>378</td>\n",
       "      <td>260</td>\n",
       "      <td>184</td>\n",
       "      <td>88</td>\n",
       "      <td>46</td>\n",
       "      <td>24</td>\n",
       "      <td>8</td>\n",
       "      <td>4</td>\n",
       "      <td>0</td>\n",
       "    </tr>\n",
       "    <tr>\n",
       "      <th>1</th>\n",
       "      <td>1</td>\n",
       "      <td>1</td>\n",
       "      <td>0</td>\n",
       "      <td>0</td>\n",
       "      <td>0</td>\n",
       "      <td>0</td>\n",
       "      <td>0</td>\n",
       "      <td>0</td>\n",
       "      <td>0</td>\n",
       "      <td>0</td>\n",
       "      <td>...</td>\n",
       "      <td>294</td>\n",
       "      <td>168</td>\n",
       "      <td>132</td>\n",
       "      <td>86</td>\n",
       "      <td>46</td>\n",
       "      <td>24</td>\n",
       "      <td>14</td>\n",
       "      <td>2</td>\n",
       "      <td>6</td>\n",
       "      <td>0</td>\n",
       "    </tr>\n",
       "    <tr>\n",
       "      <th>2</th>\n",
       "      <td>1</td>\n",
       "      <td>1</td>\n",
       "      <td>0</td>\n",
       "      <td>0</td>\n",
       "      <td>0</td>\n",
       "      <td>0</td>\n",
       "      <td>0</td>\n",
       "      <td>0</td>\n",
       "      <td>0</td>\n",
       "      <td>0</td>\n",
       "      <td>...</td>\n",
       "      <td>290</td>\n",
       "      <td>238</td>\n",
       "      <td>178</td>\n",
       "      <td>138</td>\n",
       "      <td>80</td>\n",
       "      <td>74</td>\n",
       "      <td>44</td>\n",
       "      <td>20</td>\n",
       "      <td>20</td>\n",
       "      <td>0</td>\n",
       "    </tr>\n",
       "    <tr>\n",
       "      <th>3</th>\n",
       "      <td>1</td>\n",
       "      <td>1</td>\n",
       "      <td>0</td>\n",
       "      <td>0</td>\n",
       "      <td>0</td>\n",
       "      <td>0</td>\n",
       "      <td>0</td>\n",
       "      <td>0</td>\n",
       "      <td>0</td>\n",
       "      <td>0</td>\n",
       "      <td>...</td>\n",
       "      <td>284</td>\n",
       "      <td>228</td>\n",
       "      <td>190</td>\n",
       "      <td>128</td>\n",
       "      <td>82</td>\n",
       "      <td>38</td>\n",
       "      <td>22</td>\n",
       "      <td>8</td>\n",
       "      <td>2</td>\n",
       "      <td>0</td>\n",
       "    </tr>\n",
       "    <tr>\n",
       "      <th>4</th>\n",
       "      <td>1</td>\n",
       "      <td>1</td>\n",
       "      <td>0</td>\n",
       "      <td>0</td>\n",
       "      <td>0</td>\n",
       "      <td>0</td>\n",
       "      <td>0</td>\n",
       "      <td>0</td>\n",
       "      <td>0</td>\n",
       "      <td>0</td>\n",
       "      <td>...</td>\n",
       "      <td>344</td>\n",
       "      <td>284</td>\n",
       "      <td>216</td>\n",
       "      <td>160</td>\n",
       "      <td>110</td>\n",
       "      <td>56</td>\n",
       "      <td>32</td>\n",
       "      <td>22</td>\n",
       "      <td>8</td>\n",
       "      <td>0</td>\n",
       "    </tr>\n",
       "  </tbody>\n",
       "</table>\n",
       "<p>5 rows × 1602 columns</p>\n",
       "</div>"
      ],
      "text/plain": [
       "   pid  d0  d1  d2  d3  d4  d5  d6  d7  d8   ...    d1591  d1592  d1593  \\\n",
       "0    1   1   0   0   0   0   0   0   0   0   ...      466    378    260   \n",
       "1    1   1   0   0   0   0   0   0   0   0   ...      294    168    132   \n",
       "2    1   1   0   0   0   0   0   0   0   0   ...      290    238    178   \n",
       "3    1   1   0   0   0   0   0   0   0   0   ...      284    228    190   \n",
       "4    1   1   0   0   0   0   0   0   0   0   ...      344    284    216   \n",
       "\n",
       "   d1594  d1595  d1596  d1597  d1598  d1599  result  \n",
       "0    184     88     46     24      8      4       0  \n",
       "1     86     46     24     14      2      6       0  \n",
       "2    138     80     74     44     20     20       0  \n",
       "3    128     82     38     22      8      2       0  \n",
       "4    160    110     56     32     22      8       0  \n",
       "\n",
       "[5 rows x 1602 columns]"
      ]
     },
     "execution_count": 9,
     "metadata": {},
     "output_type": "execute_result"
    }
   ],
   "source": [
    "data = pd.read_csv(\"./train.csv\")\n",
    "del(data['id'])\n",
    "data.head()"
   ]
  },
  {
   "cell_type": "code",
   "execution_count": 10,
   "metadata": {
    "collapsed": false
   },
   "outputs": [
    {
     "data": {
      "text/html": [
       "<div>\n",
       "<table border=\"1\" class=\"dataframe\">\n",
       "  <thead>\n",
       "    <tr style=\"text-align: right;\">\n",
       "      <th></th>\n",
       "      <th>pid</th>\n",
       "      <th>d0</th>\n",
       "      <th>d1</th>\n",
       "      <th>d2</th>\n",
       "      <th>d3</th>\n",
       "      <th>d4</th>\n",
       "      <th>d5</th>\n",
       "      <th>d6</th>\n",
       "      <th>d7</th>\n",
       "      <th>d8</th>\n",
       "      <th>...</th>\n",
       "      <th>d1591</th>\n",
       "      <th>d1592</th>\n",
       "      <th>d1593</th>\n",
       "      <th>d1594</th>\n",
       "      <th>d1595</th>\n",
       "      <th>d1596</th>\n",
       "      <th>d1597</th>\n",
       "      <th>d1598</th>\n",
       "      <th>d1599</th>\n",
       "      <th>result</th>\n",
       "    </tr>\n",
       "  </thead>\n",
       "  <tbody>\n",
       "    <tr>\n",
       "      <th>count</th>\n",
       "      <td>1265.0</td>\n",
       "      <td>1265.0</td>\n",
       "      <td>1265.0</td>\n",
       "      <td>1265.0</td>\n",
       "      <td>1265.0</td>\n",
       "      <td>1265.0</td>\n",
       "      <td>1265.0</td>\n",
       "      <td>1265.0</td>\n",
       "      <td>1265.000000</td>\n",
       "      <td>1265.000000</td>\n",
       "      <td>...</td>\n",
       "      <td>1265.000000</td>\n",
       "      <td>1265.000000</td>\n",
       "      <td>1265.000000</td>\n",
       "      <td>1265.000000</td>\n",
       "      <td>1265.000000</td>\n",
       "      <td>1265.000000</td>\n",
       "      <td>1265.000000</td>\n",
       "      <td>1265.000000</td>\n",
       "      <td>1265.000000</td>\n",
       "      <td>1265.000000</td>\n",
       "    </tr>\n",
       "    <tr>\n",
       "      <th>mean</th>\n",
       "      <td>1.0</td>\n",
       "      <td>1.0</td>\n",
       "      <td>0.0</td>\n",
       "      <td>0.0</td>\n",
       "      <td>0.0</td>\n",
       "      <td>0.0</td>\n",
       "      <td>0.0</td>\n",
       "      <td>0.0</td>\n",
       "      <td>0.001581</td>\n",
       "      <td>0.001581</td>\n",
       "      <td>...</td>\n",
       "      <td>303.707510</td>\n",
       "      <td>243.617391</td>\n",
       "      <td>184.812648</td>\n",
       "      <td>132.463241</td>\n",
       "      <td>87.557312</td>\n",
       "      <td>52.727273</td>\n",
       "      <td>28.327273</td>\n",
       "      <td>14.474308</td>\n",
       "      <td>9.464032</td>\n",
       "      <td>0.110672</td>\n",
       "    </tr>\n",
       "    <tr>\n",
       "      <th>std</th>\n",
       "      <td>0.0</td>\n",
       "      <td>0.0</td>\n",
       "      <td>0.0</td>\n",
       "      <td>0.0</td>\n",
       "      <td>0.0</td>\n",
       "      <td>0.0</td>\n",
       "      <td>0.0</td>\n",
       "      <td>0.0</td>\n",
       "      <td>0.056232</td>\n",
       "      <td>0.056232</td>\n",
       "      <td>...</td>\n",
       "      <td>165.383118</td>\n",
       "      <td>142.711088</td>\n",
       "      <td>118.910363</td>\n",
       "      <td>99.689600</td>\n",
       "      <td>77.304224</td>\n",
       "      <td>64.923585</td>\n",
       "      <td>51.725576</td>\n",
       "      <td>46.369828</td>\n",
       "      <td>48.552078</td>\n",
       "      <td>0.313850</td>\n",
       "    </tr>\n",
       "    <tr>\n",
       "      <th>min</th>\n",
       "      <td>1.0</td>\n",
       "      <td>1.0</td>\n",
       "      <td>0.0</td>\n",
       "      <td>0.0</td>\n",
       "      <td>0.0</td>\n",
       "      <td>0.0</td>\n",
       "      <td>0.0</td>\n",
       "      <td>0.0</td>\n",
       "      <td>0.000000</td>\n",
       "      <td>0.000000</td>\n",
       "      <td>...</td>\n",
       "      <td>0.000000</td>\n",
       "      <td>0.000000</td>\n",
       "      <td>0.000000</td>\n",
       "      <td>0.000000</td>\n",
       "      <td>0.000000</td>\n",
       "      <td>0.000000</td>\n",
       "      <td>0.000000</td>\n",
       "      <td>0.000000</td>\n",
       "      <td>2.000000</td>\n",
       "      <td>0.000000</td>\n",
       "    </tr>\n",
       "    <tr>\n",
       "      <th>25%</th>\n",
       "      <td>1.0</td>\n",
       "      <td>1.0</td>\n",
       "      <td>0.0</td>\n",
       "      <td>0.0</td>\n",
       "      <td>0.0</td>\n",
       "      <td>0.0</td>\n",
       "      <td>0.0</td>\n",
       "      <td>0.0</td>\n",
       "      <td>0.000000</td>\n",
       "      <td>0.000000</td>\n",
       "      <td>...</td>\n",
       "      <td>212.000000</td>\n",
       "      <td>154.000000</td>\n",
       "      <td>104.000000</td>\n",
       "      <td>64.000000</td>\n",
       "      <td>36.000000</td>\n",
       "      <td>18.000000</td>\n",
       "      <td>10.000000</td>\n",
       "      <td>4.000000</td>\n",
       "      <td>2.000000</td>\n",
       "      <td>0.000000</td>\n",
       "    </tr>\n",
       "    <tr>\n",
       "      <th>50%</th>\n",
       "      <td>1.0</td>\n",
       "      <td>1.0</td>\n",
       "      <td>0.0</td>\n",
       "      <td>0.0</td>\n",
       "      <td>0.0</td>\n",
       "      <td>0.0</td>\n",
       "      <td>0.0</td>\n",
       "      <td>0.0</td>\n",
       "      <td>0.000000</td>\n",
       "      <td>0.000000</td>\n",
       "      <td>...</td>\n",
       "      <td>314.000000</td>\n",
       "      <td>252.000000</td>\n",
       "      <td>190.000000</td>\n",
       "      <td>130.000000</td>\n",
       "      <td>82.000000</td>\n",
       "      <td>46.000000</td>\n",
       "      <td>22.000000</td>\n",
       "      <td>10.000000</td>\n",
       "      <td>6.000000</td>\n",
       "      <td>0.000000</td>\n",
       "    </tr>\n",
       "    <tr>\n",
       "      <th>75%</th>\n",
       "      <td>1.0</td>\n",
       "      <td>1.0</td>\n",
       "      <td>0.0</td>\n",
       "      <td>0.0</td>\n",
       "      <td>0.0</td>\n",
       "      <td>0.0</td>\n",
       "      <td>0.0</td>\n",
       "      <td>0.0</td>\n",
       "      <td>0.000000</td>\n",
       "      <td>0.000000</td>\n",
       "      <td>...</td>\n",
       "      <td>402.000000</td>\n",
       "      <td>330.000000</td>\n",
       "      <td>252.000000</td>\n",
       "      <td>184.000000</td>\n",
       "      <td>122.000000</td>\n",
       "      <td>74.000000</td>\n",
       "      <td>40.000000</td>\n",
       "      <td>18.000000</td>\n",
       "      <td>10.000000</td>\n",
       "      <td>0.000000</td>\n",
       "    </tr>\n",
       "    <tr>\n",
       "      <th>max</th>\n",
       "      <td>1.0</td>\n",
       "      <td>1.0</td>\n",
       "      <td>0.0</td>\n",
       "      <td>0.0</td>\n",
       "      <td>0.0</td>\n",
       "      <td>0.0</td>\n",
       "      <td>0.0</td>\n",
       "      <td>0.0</td>\n",
       "      <td>2.000000</td>\n",
       "      <td>2.000000</td>\n",
       "      <td>...</td>\n",
       "      <td>2060.000000</td>\n",
       "      <td>1422.000000</td>\n",
       "      <td>1186.000000</td>\n",
       "      <td>1442.000000</td>\n",
       "      <td>1534.000000</td>\n",
       "      <td>1766.000000</td>\n",
       "      <td>1616.000000</td>\n",
       "      <td>1306.000000</td>\n",
       "      <td>1264.000000</td>\n",
       "      <td>1.000000</td>\n",
       "    </tr>\n",
       "  </tbody>\n",
       "</table>\n",
       "<p>8 rows × 1602 columns</p>\n",
       "</div>"
      ],
      "text/plain": [
       "          pid      d0      d1      d2      d3      d4      d5      d6  \\\n",
       "count  1265.0  1265.0  1265.0  1265.0  1265.0  1265.0  1265.0  1265.0   \n",
       "mean      1.0     1.0     0.0     0.0     0.0     0.0     0.0     0.0   \n",
       "std       0.0     0.0     0.0     0.0     0.0     0.0     0.0     0.0   \n",
       "min       1.0     1.0     0.0     0.0     0.0     0.0     0.0     0.0   \n",
       "25%       1.0     1.0     0.0     0.0     0.0     0.0     0.0     0.0   \n",
       "50%       1.0     1.0     0.0     0.0     0.0     0.0     0.0     0.0   \n",
       "75%       1.0     1.0     0.0     0.0     0.0     0.0     0.0     0.0   \n",
       "max       1.0     1.0     0.0     0.0     0.0     0.0     0.0     0.0   \n",
       "\n",
       "                d7           d8     ...             d1591        d1592  \\\n",
       "count  1265.000000  1265.000000     ...       1265.000000  1265.000000   \n",
       "mean      0.001581     0.001581     ...        303.707510   243.617391   \n",
       "std       0.056232     0.056232     ...        165.383118   142.711088   \n",
       "min       0.000000     0.000000     ...          0.000000     0.000000   \n",
       "25%       0.000000     0.000000     ...        212.000000   154.000000   \n",
       "50%       0.000000     0.000000     ...        314.000000   252.000000   \n",
       "75%       0.000000     0.000000     ...        402.000000   330.000000   \n",
       "max       2.000000     2.000000     ...       2060.000000  1422.000000   \n",
       "\n",
       "             d1593        d1594        d1595        d1596        d1597  \\\n",
       "count  1265.000000  1265.000000  1265.000000  1265.000000  1265.000000   \n",
       "mean    184.812648   132.463241    87.557312    52.727273    28.327273   \n",
       "std     118.910363    99.689600    77.304224    64.923585    51.725576   \n",
       "min       0.000000     0.000000     0.000000     0.000000     0.000000   \n",
       "25%     104.000000    64.000000    36.000000    18.000000    10.000000   \n",
       "50%     190.000000   130.000000    82.000000    46.000000    22.000000   \n",
       "75%     252.000000   184.000000   122.000000    74.000000    40.000000   \n",
       "max    1186.000000  1442.000000  1534.000000  1766.000000  1616.000000   \n",
       "\n",
       "             d1598        d1599       result  \n",
       "count  1265.000000  1265.000000  1265.000000  \n",
       "mean     14.474308     9.464032     0.110672  \n",
       "std      46.369828    48.552078     0.313850  \n",
       "min       0.000000     2.000000     0.000000  \n",
       "25%       4.000000     2.000000     0.000000  \n",
       "50%      10.000000     6.000000     0.000000  \n",
       "75%      18.000000    10.000000     0.000000  \n",
       "max    1306.000000  1264.000000     1.000000  \n",
       "\n",
       "[8 rows x 1602 columns]"
      ]
     },
     "execution_count": 10,
     "metadata": {},
     "output_type": "execute_result"
    }
   ],
   "source": [
    "data.describe()"
   ]
  },
  {
   "cell_type": "code",
   "execution_count": 17,
   "metadata": {
    "collapsed": false
   },
   "outputs": [],
   "source": [
    "X = data.drop(['result', 'pid'], axis=1)\n",
    "y = data['result']"
   ]
  },
  {
   "cell_type": "code",
   "execution_count": 40,
   "metadata": {
    "collapsed": false
   },
   "outputs": [
    {
     "data": {
      "text/plain": [
       "array([ 0.56079365,  0.47031746,  0.53634921,  0.50984127,  0.39047619])"
      ]
     },
     "execution_count": 40,
     "metadata": {},
     "output_type": "execute_result"
    }
   ],
   "source": [
    "from sklearn.cross_validation import KFold, cross_val_score\n",
    "from sklearn.ensemble import RandomForestClassifier\n",
    "\n",
    "# for train, test in KFold(50, 5):\n",
    "#     X_train, X_test = X.ix[train, :], X.ix[test, :]\n",
    "#     y_train, y_test = y[train], y[test]\n",
    "#     clas = RandomForestClassifier(max_depth=4, n_estimators=1000)\n",
    "#     clas.fit(X_train, y_train)\n",
    "#     print(clas.score(X_test, y_test))\n",
    "\n",
    "clas = RandomForestClassifier(max_depth=4, n_estimators=1000)\n",
    "    \n",
    "cross_val_score(clas, X, y, scoring=\"roc_auc\", cv=5)"
   ]
  },
  {
   "cell_type": "code",
   "execution_count": null,
   "metadata": {
    "collapsed": true
   },
   "outputs": [],
   "source": []
  }
 ],
 "metadata": {
  "kernelspec": {
   "display_name": "Python 3",
   "language": "python",
   "name": "python3"
  },
  "language_info": {
   "codemirror_mode": {
    "name": "ipython",
    "version": 3
   },
   "file_extension": ".py",
   "mimetype": "text/x-python",
   "name": "python",
   "nbconvert_exporter": "python",
   "pygments_lexer": "ipython3",
   "version": "3.5.1"
  }
 },
 "nbformat": 4,
 "nbformat_minor": 0
}
